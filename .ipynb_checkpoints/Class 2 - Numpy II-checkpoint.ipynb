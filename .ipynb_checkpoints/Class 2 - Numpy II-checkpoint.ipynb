{
 "cells": [
  {
   "cell_type": "markdown",
   "metadata": {},
   "source": [
    "## Topics for Class\n",
    "* Revisiting Stacking and Splitting\n",
    "* Few interesting array creation functions\n",
    "* Understanding of Reductions\n",
    "* Understanding of Broadcasting\n",
    "* Understanding of Universal Functions"
   ]
  },
  {
   "cell_type": "code",
   "execution_count": 2,
   "metadata": {},
   "outputs": [],
   "source": [
    "import numpy as np"
   ]
  },
  {
   "cell_type": "markdown",
   "metadata": {},
   "source": [
    "## Revisiting Stacking and Splitting\n",
    "* Stacking merges two or more matrics together to create larger matrices\n",
    "  * Horizontal stacking (hstack)\n",
    "  * Vertical stacking (vstack)\n",
    "* Splitting splits an existing matrix into smaller matrices\n",
    "  * Horizontal splitting (hsplit)\n",
    "  * Vertical splitting (vsplit)\n",
    "* Other common methods of merging \n",
    "  * Concatenate\n",
    "  * Append"
   ]
  },
  {
   "cell_type": "code",
   "execution_count": 3,
   "metadata": {},
   "outputs": [
    {
     "data": {
      "text/plain": [
       "array([[4, 2, 8, 2],\n",
       "       [9, 9, 1, 4],\n",
       "       [9, 8, 5, 7]])"
      ]
     },
     "execution_count": 3,
     "metadata": {},
     "output_type": "execute_result"
    }
   ],
   "source": [
    "stk1 = np.random.randint(1,10,(3,4))\n",
    "stk1"
   ]
  },
  {
   "cell_type": "code",
   "execution_count": 4,
   "metadata": {},
   "outputs": [
    {
     "data": {
      "text/plain": [
       "array([[17, 16, 15, 11],\n",
       "       [18, 13, 18, 18],\n",
       "       [15, 17, 11, 11]])"
      ]
     },
     "execution_count": 4,
     "metadata": {},
     "output_type": "execute_result"
    }
   ],
   "source": [
    "stk2 = np.random.randint(11,20,(3,4))\n",
    "stk2"
   ]
  },
  {
   "cell_type": "code",
   "execution_count": 9,
   "metadata": {},
   "outputs": [
    {
     "data": {
      "text/plain": [
       "array([[ 4,  2,  8,  2, 17, 16, 15, 11],\n",
       "       [ 9,  9,  1,  4, 18, 13, 18, 18],\n",
       "       [ 9,  8,  5,  7, 15, 17, 11, 11]])"
      ]
     },
     "execution_count": 9,
     "metadata": {},
     "output_type": "execute_result"
    }
   ],
   "source": [
    "stk3 = np.hstack((stk1,stk2))\n",
    "stk3"
   ]
  },
  {
   "cell_type": "code",
   "execution_count": 10,
   "metadata": {},
   "outputs": [
    {
     "data": {
      "text/plain": [
       "array([[[ 4,  2,  8,  2],\n",
       "        [17, 16, 15, 11]],\n",
       "\n",
       "       [[ 9,  9,  1,  4],\n",
       "        [18, 13, 18, 18]],\n",
       "\n",
       "       [[ 9,  8,  5,  7],\n",
       "        [15, 17, 11, 11]]])"
      ]
     },
     "execution_count": 10,
     "metadata": {},
     "output_type": "execute_result"
    }
   ],
   "source": [
    "stk4 = np.stack((stk1,stk2),axis=1)\n",
    "stk4"
   ]
  },
  {
   "cell_type": "code",
   "execution_count": 12,
   "metadata": {},
   "outputs": [
    {
     "data": {
      "text/plain": [
       "array([[ 4,  2,  8,  2],\n",
       "       [ 9,  9,  1,  4],\n",
       "       [ 9,  8,  5,  7],\n",
       "       [17, 16, 15, 11],\n",
       "       [18, 13, 18, 18],\n",
       "       [15, 17, 11, 11]])"
      ]
     },
     "execution_count": 12,
     "metadata": {},
     "output_type": "execute_result"
    }
   ],
   "source": [
    "stk5 = np.vstack((stk1,stk2))\n",
    "stk5"
   ]
  },
  {
   "cell_type": "code",
   "execution_count": 14,
   "metadata": {},
   "outputs": [
    {
     "data": {
      "text/plain": [
       "array([[[ 4,  2,  8,  2],\n",
       "        [ 9,  9,  1,  4],\n",
       "        [ 9,  8,  5,  7]],\n",
       "\n",
       "       [[17, 16, 15, 11],\n",
       "        [18, 13, 18, 18],\n",
       "        [15, 17, 11, 11]]])"
      ]
     },
     "execution_count": 14,
     "metadata": {},
     "output_type": "execute_result"
    }
   ],
   "source": [
    "stk6 = np.stack((stk1,stk2),axis=0)\n",
    "stk6"
   ]
  },
  {
   "cell_type": "markdown",
   "metadata": {},
   "source": [
    "## Difference between hstack/vstack and stack\n",
    "* hstack appends the 2nd matrix side by side of the 1st matrix. The shape remains the same\n",
    "* stack along axis=1 forms 3 2D matrices by taking row by row values. The shape changes from 2D to 3D"
   ]
  },
  {
   "cell_type": "code",
   "execution_count": 47,
   "metadata": {},
   "outputs": [
    {
     "data": {
      "text/plain": [
       "array([[ 2,  4,  4,  5],\n",
       "       [ 3,  5,  3,  4],\n",
       "       [ 2,  1,  1,  3],\n",
       "       [11, 11, 14, 19],\n",
       "       [13, 11, 16, 19],\n",
       "       [16, 16, 15, 11]])"
      ]
     },
     "execution_count": 47,
     "metadata": {},
     "output_type": "execute_result"
    }
   ],
   "source": [
    "# concatenate and append are another methods for doing matrix concatenation\n",
    "stk7 = np.concatenate((stk1,stk2))\n",
    "stk7"
   ]
  },
  {
   "cell_type": "code",
   "execution_count": 48,
   "metadata": {},
   "outputs": [
    {
     "data": {
      "text/plain": [
       "array([[ 2,  4,  4,  5],\n",
       "       [ 3,  5,  3,  4],\n",
       "       [ 2,  1,  1,  3],\n",
       "       [11, 11, 14, 19],\n",
       "       [13, 11, 16, 19],\n",
       "       [16, 16, 15, 11]])"
      ]
     },
     "execution_count": 48,
     "metadata": {},
     "output_type": "execute_result"
    }
   ],
   "source": [
    "stk8 = np.concatenate((stk1,stk2),axis=0)\n",
    "stk8"
   ]
  },
  {
   "cell_type": "code",
   "execution_count": 49,
   "metadata": {},
   "outputs": [
    {
     "data": {
      "text/plain": [
       "array([[ 2,  4,  4,  5, 11, 11, 14, 19],\n",
       "       [ 3,  5,  3,  4, 13, 11, 16, 19],\n",
       "       [ 2,  1,  1,  3, 16, 16, 15, 11]])"
      ]
     },
     "execution_count": 49,
     "metadata": {},
     "output_type": "execute_result"
    }
   ],
   "source": [
    "stk9 = np.concatenate((stk1,stk2),axis=1)\n",
    "stk9"
   ]
  },
  {
   "cell_type": "code",
   "execution_count": 52,
   "metadata": {},
   "outputs": [
    {
     "data": {
      "text/plain": [
       "array([[ 2,  4,  4,  5],\n",
       "       [ 3,  5,  3,  4],\n",
       "       [ 2,  1,  1,  3],\n",
       "       [11, 11, 14, 19],\n",
       "       [13, 11, 16, 19],\n",
       "       [16, 16, 15, 11]])"
      ]
     },
     "execution_count": 52,
     "metadata": {},
     "output_type": "execute_result"
    }
   ],
   "source": [
    "stk10 = np.append(stk1,stk2,axis=0)\n",
    "stk10"
   ]
  },
  {
   "cell_type": "code",
   "execution_count": 53,
   "metadata": {},
   "outputs": [
    {
     "data": {
      "text/plain": [
       "array([[ 2,  4,  4,  5, 11, 11, 14, 19],\n",
       "       [ 3,  5,  3,  4, 13, 11, 16, 19],\n",
       "       [ 2,  1,  1,  3, 16, 16, 15, 11]])"
      ]
     },
     "execution_count": 53,
     "metadata": {},
     "output_type": "execute_result"
    }
   ],
   "source": [
    "stk11 = np.append(stk1,stk2,axis=1)\n",
    "stk11"
   ]
  },
  {
   "cell_type": "markdown",
   "metadata": {},
   "source": [
    "## Let's talk about Split functions now!"
   ]
  },
  {
   "cell_type": "code",
   "execution_count": 16,
   "metadata": {},
   "outputs": [
    {
     "data": {
      "text/plain": [
       "array([[1, 6, 3, 9],\n",
       "       [7, 4, 4, 6],\n",
       "       [5, 2, 1, 6]])"
      ]
     },
     "execution_count": 16,
     "metadata": {},
     "output_type": "execute_result"
    }
   ],
   "source": [
    "# lets create a matrix and apply split function\n",
    "splt1 = np.random.randint(1,10,(3,4))\n",
    "splt1"
   ]
  },
  {
   "cell_type": "code",
   "execution_count": 18,
   "metadata": {},
   "outputs": [
    {
     "data": {
      "text/plain": [
       "[array([[1, 6],\n",
       "        [7, 4],\n",
       "        [5, 2]]), array([[3, 9],\n",
       "        [4, 6],\n",
       "        [1, 6]])]"
      ]
     },
     "execution_count": 18,
     "metadata": {},
     "output_type": "execute_result"
    }
   ],
   "source": [
    "splt2 = np.hsplit(splt1,2)\n",
    "splt2"
   ]
  },
  {
   "cell_type": "code",
   "execution_count": 19,
   "metadata": {},
   "outputs": [
    {
     "data": {
      "text/plain": [
       "[array([[1, 6],\n",
       "        [7, 4],\n",
       "        [5, 2]]), array([[3, 9],\n",
       "        [4, 6],\n",
       "        [1, 6]])]"
      ]
     },
     "execution_count": 19,
     "metadata": {},
     "output_type": "execute_result"
    }
   ],
   "source": [
    "splt3 = np.split(splt1,2,axis=1)\n",
    "splt3"
   ]
  },
  {
   "cell_type": "code",
   "execution_count": 20,
   "metadata": {},
   "outputs": [
    {
     "data": {
      "text/plain": [
       "[array([[1, 6, 3, 9]]), array([[7, 4, 4, 6]]), array([[5, 2, 1, 6]])]"
      ]
     },
     "execution_count": 20,
     "metadata": {},
     "output_type": "execute_result"
    }
   ],
   "source": [
    "splt4 = np.vsplit(splt1,3)\n",
    "splt4"
   ]
  },
  {
   "cell_type": "code",
   "execution_count": 21,
   "metadata": {},
   "outputs": [
    {
     "data": {
      "text/plain": [
       "[array([[1, 6, 3, 9]]), array([[7, 4, 4, 6]]), array([[5, 2, 1, 6]])]"
      ]
     },
     "execution_count": 21,
     "metadata": {},
     "output_type": "execute_result"
    }
   ],
   "source": [
    "splt5 = np.split(splt1,3,axis=0)\n",
    "splt5"
   ]
  },
  {
   "cell_type": "markdown",
   "metadata": {},
   "source": [
    "## Quick Note on Transposition"
   ]
  },
  {
   "cell_type": "code",
   "execution_count": 25,
   "metadata": {},
   "outputs": [
    {
     "data": {
      "text/plain": [
       "(1, 3)"
      ]
     },
     "execution_count": 25,
     "metadata": {},
     "output_type": "execute_result"
    }
   ],
   "source": [
    "# lets create a vector\n",
    "v = np.array([[1,2,3]])\n",
    "v.shape"
   ]
  },
  {
   "cell_type": "code",
   "execution_count": 26,
   "metadata": {},
   "outputs": [
    {
     "data": {
      "text/plain": [
       "(3, 1)"
      ]
     },
     "execution_count": 26,
     "metadata": {},
     "output_type": "execute_result"
    }
   ],
   "source": [
    "# another way to create the same vector\n",
    "v1 = np.transpose(np.array([[1,2,3]]))\n",
    "v1.shape"
   ]
  },
  {
   "cell_type": "markdown",
   "metadata": {},
   "source": [
    "## Quick Notes"
   ]
  },
  {
   "cell_type": "code",
   "execution_count": 27,
   "metadata": {},
   "outputs": [
    {
     "data": {
      "text/plain": [
       "array([[1, 0, 0, 0],\n",
       "       [0, 2, 0, 0],\n",
       "       [0, 0, 3, 0],\n",
       "       [0, 0, 0, 4]])"
      ]
     },
     "execution_count": 27,
     "metadata": {},
     "output_type": "execute_result"
    }
   ],
   "source": [
    "# creating a matrix with nos. diagonally\n",
    "m1 = np.diag([1,2,3,4])\n",
    "m1"
   ]
  },
  {
   "cell_type": "code",
   "execution_count": 45,
   "metadata": {},
   "outputs": [
    {
     "data": {
      "text/plain": [
       "array([[ 0.,  1.,  4.,  9., 16.],\n",
       "       [ 1.,  2.,  5., 10., 17.],\n",
       "       [ 4.,  5.,  8., 13., 20.],\n",
       "       [ 9., 10., 13., 18., 25.]])"
      ]
     },
     "execution_count": 45,
     "metadata": {},
     "output_type": "execute_result"
    }
   ],
   "source": [
    "# creating a matrix from a function : here the function is i^2 + j^2\n",
    "m2 = np.fromfunction(lambda i,j:i**2+j**2,(4,5))\n",
    "m2"
   ]
  },
  {
   "cell_type": "code",
   "execution_count": 46,
   "metadata": {},
   "outputs": [
    {
     "data": {
      "text/plain": [
       "array([[ 1.        ,  0.54030231, -0.41614684, -0.9899925 ],\n",
       "       [ 1.84147098,  1.38177329,  0.42532415, -0.14852151],\n",
       "       [ 1.90929743,  1.44959973,  0.49315059, -0.08069507]])"
      ]
     },
     "execution_count": 46,
     "metadata": {},
     "output_type": "execute_result"
    }
   ],
   "source": [
    "# here the function is sin(i)+cos(j)\n",
    "m3 = np.fromfunction(lambda i,j:np.sin(i)+np.cos(j),(3,4))\n",
    "m3"
   ]
  },
  {
   "cell_type": "markdown",
   "metadata": {},
   "source": [
    "## Some discussions on Reductions\n",
    "#### It means \"the mechanisms to summarize and in turn reduce data\"\n",
    "* Sum\n",
    "* Mean\n",
    "* Median\n",
    "* .....Any other aggregation functions\n"
   ]
  },
  {
   "cell_type": "code",
   "execution_count": 54,
   "metadata": {},
   "outputs": [
    {
     "data": {
      "text/plain": [
       "array([[4, 9, 5, 3],\n",
       "       [2, 8, 3, 6],\n",
       "       [3, 6, 7, 3]])"
      ]
     },
     "execution_count": 54,
     "metadata": {},
     "output_type": "execute_result"
    }
   ],
   "source": [
    "red1 = np.random.randint(1,10,(3,4))\n",
    "red1"
   ]
  },
  {
   "cell_type": "code",
   "execution_count": 58,
   "metadata": {},
   "outputs": [
    {
     "data": {
      "text/plain": [
       "59"
      ]
     },
     "execution_count": 58,
     "metadata": {},
     "output_type": "execute_result"
    }
   ],
   "source": [
    "red2 = red1.sum()\n",
    "red2"
   ]
  },
  {
   "cell_type": "code",
   "execution_count": 59,
   "metadata": {},
   "outputs": [
    {
     "data": {
      "text/plain": [
       "array([ 9, 23, 15, 12])"
      ]
     },
     "execution_count": 59,
     "metadata": {},
     "output_type": "execute_result"
    }
   ],
   "source": [
    "red3 = red1.sum(0)\n",
    "red3"
   ]
  },
  {
   "cell_type": "code",
   "execution_count": 62,
   "metadata": {},
   "outputs": [
    {
     "data": {
      "text/plain": [
       "array([21, 19, 19])"
      ]
     },
     "execution_count": 62,
     "metadata": {},
     "output_type": "execute_result"
    }
   ],
   "source": [
    "red4 = red1.sum(1)\n",
    "red4"
   ]
  },
  {
   "cell_type": "code",
   "execution_count": 64,
   "metadata": {},
   "outputs": [
    {
     "data": {
      "text/plain": [
       "array([[ 1.22474487,  1.06904497,  0.        , -0.70710678],\n",
       "       [-1.22474487,  0.26726124, -1.22474487,  1.41421356],\n",
       "       [ 0.        , -1.33630621,  1.22474487, -0.70710678]])"
      ]
     },
     "execution_count": 64,
     "metadata": {},
     "output_type": "execute_result"
    }
   ],
   "source": [
    "# Quick application - lets normalize the matrix : formula = (x - mean)/std\n",
    "red5 = (red1 - red1.mean(0))/red1.std(0)\n",
    "red5"
   ]
  },
  {
   "cell_type": "markdown",
   "metadata": {},
   "source": [
    "## Understanding Broadcasting\n",
    "![Broadcasting](img/broadcasting.png)\n",
    "\n",
    "#### Broadcasting Rules :\n",
    "  * Rule 1: If the two arrays differ in their number of dimensions, the shape of the one with fewer dimensions is padded with    ones on its leading (left) side.\n",
    "  * Rule 2: If the shape of the two arrays does not match in any dimension, the array with shape equal to 1 in that dimension is stretched to match the other shape.\n",
    "  * Rule 3: If in any dimension the sizes disagree and neither is equal to 1, an error is raised."
   ]
  },
  {
   "cell_type": "code",
   "execution_count": 31,
   "metadata": {},
   "outputs": [
    {
     "data": {
      "text/plain": [
       "array([[0., 0., 0.],\n",
       "       [0., 0., 0.],\n",
       "       [0., 0., 0.],\n",
       "       [0., 0., 0.]])"
      ]
     },
     "execution_count": 31,
     "metadata": {},
     "output_type": "execute_result"
    }
   ],
   "source": [
    "arr1 = np.zeros((4,3))\n",
    "arr1"
   ]
  },
  {
   "cell_type": "code",
   "execution_count": 32,
   "metadata": {},
   "outputs": [
    {
     "data": {
      "text/plain": [
       "(3,)"
      ]
     },
     "execution_count": 32,
     "metadata": {},
     "output_type": "execute_result"
    }
   ],
   "source": [
    "arr2 = np.array([1,2,3])\n",
    "arr2"
   ]
  },
  {
   "cell_type": "code",
   "execution_count": 33,
   "metadata": {},
   "outputs": [
    {
     "data": {
      "text/plain": [
       "array([[1., 2., 3.],\n",
       "       [1., 2., 3.],\n",
       "       [1., 2., 3.],\n",
       "       [1., 2., 3.]])"
      ]
     },
     "execution_count": 33,
     "metadata": {},
     "output_type": "execute_result"
    }
   ],
   "source": [
    "arr3 = arr1 + arr2\n",
    "arr3\n",
    "# please note that broadcasting a row vector with a matrix requires the no. of columns to be same in both"
   ]
  },
  {
   "cell_type": "code",
   "execution_count": 13,
   "metadata": {},
   "outputs": [
    {
     "data": {
      "text/plain": [
       "array([[1],\n",
       "       [2],\n",
       "       [3],\n",
       "       [4]])"
      ]
     },
     "execution_count": 13,
     "metadata": {},
     "output_type": "execute_result"
    }
   ],
   "source": [
    "# broadcasting with a column vector\n",
    "arr4 = np.transpose(np.array([[1,2,3,4]]))\n",
    "arr4"
   ]
  },
  {
   "cell_type": "code",
   "execution_count": 14,
   "metadata": {},
   "outputs": [
    {
     "data": {
      "text/plain": [
       "array([[1., 1., 1.],\n",
       "       [2., 2., 2.],\n",
       "       [3., 3., 3.],\n",
       "       [4., 4., 4.]])"
      ]
     },
     "execution_count": 14,
     "metadata": {},
     "output_type": "execute_result"
    }
   ],
   "source": [
    "arr5 = arr1 + arr4\n",
    "arr5\n",
    "# please note that broadcasting a column vector with a matrix requires the no. of rows to be same in both"
   ]
  },
  {
   "cell_type": "code",
   "execution_count": 35,
   "metadata": {},
   "outputs": [
    {
     "data": {
      "text/plain": [
       "array([[56.1, 22.1,  7.4,  3.1],\n",
       "       [12.1,  2.1,  5.4, 23. ],\n",
       "       [ 3.2, 14.3, 18.1,  4.5]])"
      ]
     },
     "execution_count": 35,
     "metadata": {},
     "output_type": "execute_result"
    }
   ],
   "source": [
    "food = np.array([[56.1,22.1,7.4,3.1]\n",
    "                ,[12.1,2.1,5.4,23]\n",
    "                ,[3.2,14.3,18.1,4.5]\n",
    "                ,])\n",
    "food"
   ]
  },
  {
   "cell_type": "code",
   "execution_count": 43,
   "metadata": {},
   "outputs": [
    {
     "data": {
      "text/plain": [
       "array([71.4, 38.5, 30.9, 30.6])"
      ]
     },
     "execution_count": 43,
     "metadata": {},
     "output_type": "execute_result"
    }
   ],
   "source": [
    "total_cal = np.sum(food,axis=0)\n",
    "total_cal"
   ]
  },
  {
   "cell_type": "code",
   "execution_count": 23,
   "metadata": {},
   "outputs": [
    {
     "data": {
      "text/plain": [
       "array([[78.57142857, 57.4025974 , 23.94822006, 10.13071895],\n",
       "       [16.94677871,  5.45454545, 17.47572816, 75.16339869],\n",
       "       [ 4.48179272, 37.14285714, 58.57605178, 14.70588235]])"
      ]
     },
     "execution_count": 23,
     "metadata": {},
     "output_type": "execute_result"
    }
   ],
   "source": [
    "perc = (food/total_cal)*100\n",
    "perc"
   ]
  },
  {
   "cell_type": "code",
   "execution_count": 45,
   "metadata": {},
   "outputs": [
    {
     "data": {
      "text/plain": [
       "(4, 2)"
      ]
     },
     "execution_count": 45,
     "metadata": {},
     "output_type": "execute_result"
    }
   ],
   "source": [
    "# another example of broadcasting\n",
    "# create pairwise distance matrix having the distances between a set of points\n",
    "# create a matrix having 4 points (0,0) (4,0) (0,3) (4,3)\n",
    "pts1 = np.array([[0,0]\n",
    "                ,[4,0]\n",
    "                ,[0,3]\n",
    "                ,[4,3]])\n",
    "pts1.shape"
   ]
  },
  {
   "cell_type": "code",
   "execution_count": 46,
   "metadata": {},
   "outputs": [
    {
     "data": {
      "text/plain": [
       "(2, 2)"
      ]
     },
     "execution_count": 46,
     "metadata": {},
     "output_type": "execute_result"
    }
   ],
   "source": [
    "pts2 = np.array([[1,1],[2,2]])\n",
    "pts2.shape"
   ]
  },
  {
   "cell_type": "code",
   "execution_count": 47,
   "metadata": {},
   "outputs": [
    {
     "ename": "ValueError",
     "evalue": "operands could not be broadcast together with shapes (4,2) (2,2) ",
     "output_type": "error",
     "traceback": [
      "\u001b[1;31m---------------------------------------------------------------------------\u001b[0m",
      "\u001b[1;31mValueError\u001b[0m                                Traceback (most recent call last)",
      "\u001b[1;32m<ipython-input-47-16f5fcec8efa>\u001b[0m in \u001b[0;36m<module>\u001b[1;34m()\u001b[0m\n\u001b[1;32m----> 1\u001b[1;33m \u001b[0mpts1\u001b[0m \u001b[1;33m-\u001b[0m \u001b[0mpts2\u001b[0m\u001b[1;33m\u001b[0m\u001b[0m\n\u001b[0m",
      "\u001b[1;31mValueError\u001b[0m: operands could not be broadcast together with shapes (4,2) (2,2) "
     ]
    }
   ],
   "source": [
    "pts1 - pts2"
   ]
  },
  {
   "cell_type": "code",
   "execution_count": 53,
   "metadata": {},
   "outputs": [
    {
     "data": {
      "text/plain": [
       "(1, 4, 2)"
      ]
     },
     "execution_count": 53,
     "metadata": {},
     "output_type": "execute_result"
    }
   ],
   "source": [
    "pts3 = pts1.reshape(1,4,2)\n",
    "pts3.shape"
   ]
  },
  {
   "cell_type": "code",
   "execution_count": 54,
   "metadata": {},
   "outputs": [
    {
     "data": {
      "text/plain": [
       "(2, 1, 2)"
      ]
     },
     "execution_count": 54,
     "metadata": {},
     "output_type": "execute_result"
    }
   ],
   "source": [
    "pts4 = pts2.reshape(2,1,2)\n",
    "pts4.shape"
   ]
  },
  {
   "cell_type": "code",
   "execution_count": 55,
   "metadata": {},
   "outputs": [
    {
     "data": {
      "text/plain": [
       "array([[[-1, -1],\n",
       "        [ 3, -1],\n",
       "        [-1,  2],\n",
       "        [ 3,  2]],\n",
       "\n",
       "       [[-2, -2],\n",
       "        [ 2, -2],\n",
       "        [-2,  1],\n",
       "        [ 2,  1]]])"
      ]
     },
     "execution_count": 55,
     "metadata": {},
     "output_type": "execute_result"
    }
   ],
   "source": [
    "pts5 = pts3 - pts4\n",
    "pts5"
   ]
  },
  {
   "cell_type": "code",
   "execution_count": 56,
   "metadata": {},
   "outputs": [
    {
     "data": {
      "text/plain": [
       "(2, 4, 2)"
      ]
     },
     "execution_count": 56,
     "metadata": {},
     "output_type": "execute_result"
    }
   ],
   "source": [
    "pts6 = pts5**2\n",
    "pts6.shape"
   ]
  },
  {
   "cell_type": "code",
   "execution_count": 57,
   "metadata": {},
   "outputs": [
    {
     "data": {
      "text/plain": [
       "array([[ 2, 10,  5, 13],\n",
       "       [ 8,  8,  5,  5]], dtype=int32)"
      ]
     },
     "execution_count": 57,
     "metadata": {},
     "output_type": "execute_result"
    }
   ],
   "source": [
    "pts7 = np.sum(pts6,axis=2)\n",
    "pts7"
   ]
  },
  {
   "cell_type": "code",
   "execution_count": 58,
   "metadata": {},
   "outputs": [
    {
     "data": {
      "text/plain": [
       "array([[1.41421356, 3.16227766, 2.23606798, 3.60555128],\n",
       "       [2.82842712, 2.82842712, 2.23606798, 2.23606798]])"
      ]
     },
     "execution_count": 58,
     "metadata": {},
     "output_type": "execute_result"
    }
   ],
   "source": [
    "pts8 = np.sqrt(pts7)\n",
    "pts8"
   ]
  },
  {
   "cell_type": "code",
   "execution_count": 98,
   "metadata": {},
   "outputs": [
    {
     "data": {
      "text/plain": [
       "array([[1.41421356, 3.16227766, 2.23606798, 3.60555128],\n",
       "       [2.82842712, 2.82842712, 2.23606798, 2.23606798]])"
      ]
     },
     "execution_count": 98,
     "metadata": {},
     "output_type": "execute_result"
    }
   ],
   "source": [
    "# one step distance matrix calculation\n",
    "np.sqrt(np.sum((pts1.reshape(1,4,2) - pts2.reshape(2,1,2))**2, -1))"
   ]
  },
  {
   "cell_type": "code",
   "execution_count": 101,
   "metadata": {},
   "outputs": [
    {
     "data": {
      "text/plain": [
       "array([1, 2, 3, 4, 5])"
      ]
     },
     "execution_count": 101,
     "metadata": {},
     "output_type": "execute_result"
    }
   ],
   "source": [
    "np.arange(1,6)"
   ]
  },
  {
   "cell_type": "markdown",
   "metadata": {},
   "source": [
    "## Introduction to Universal Functions (UFuncs)\n",
    "* Super fast operations on a matrix rather than loop method\n",
    "* All sorts of operations (mathematical, logical, comparison, transcendental etc.)\n",
    "* Reduce, aggregate, accumulate functions (reducing data to a minimum)\n",
    "* List of UFuncs : \n",
    "  * ![UFunc1](img/ufunc1.png)\n",
    "  * ![UFunc2](img/ufunc2.png)"
   ]
  },
  {
   "cell_type": "code",
   "execution_count": 59,
   "metadata": {},
   "outputs": [
    {
     "data": {
      "text/plain": [
       "array([0.16666667, 1.        , 0.25      , 0.25      , 0.125     ])"
      ]
     },
     "execution_count": 59,
     "metadata": {},
     "output_type": "execute_result"
    }
   ],
   "source": [
    "# Lets do a speed test\n",
    "import numpy as np\n",
    "np.random.seed(0)\n",
    "\n",
    "def compute_reciprocals(values):\n",
    "    output = np.empty(len(values))\n",
    "    for i in range(len(values)):\n",
    "        output[i] = 1.0 / values[i]\n",
    "    return output\n",
    "        \n",
    "values = np.random.randint(1, 10, size=5)\n",
    "compute_reciprocals(values)"
   ]
  },
  {
   "cell_type": "code",
   "execution_count": 60,
   "metadata": {},
   "outputs": [
    {
     "name": "stdout",
     "output_type": "stream",
     "text": [
      "2.2 s ± 113 ms per loop (mean ± std. dev. of 7 runs, 1 loop each)\n"
     ]
    }
   ],
   "source": [
    "big_array = np.random.randint(1, 100, size=1000000)\n",
    "%timeit compute_reciprocals(big_array)"
   ]
  },
  {
   "cell_type": "code",
   "execution_count": 61,
   "metadata": {},
   "outputs": [
    {
     "name": "stdout",
     "output_type": "stream",
     "text": [
      "5.85 ms ± 160 µs per loop (mean ± std. dev. of 7 runs, 100 loops each)\n"
     ]
    }
   ],
   "source": [
    "%timeit 1/big_array"
   ]
  },
  {
   "cell_type": "code",
   "execution_count": 63,
   "metadata": {},
   "outputs": [
    {
     "data": {
      "text/plain": [
       "array([1, 2, 3, 4, 5, 6, 7, 8, 9])"
      ]
     },
     "execution_count": 63,
     "metadata": {},
     "output_type": "execute_result"
    }
   ],
   "source": [
    "red1 = np.arange(1,10)\n",
    "red1"
   ]
  },
  {
   "cell_type": "code",
   "execution_count": 66,
   "metadata": {},
   "outputs": [
    {
     "data": {
      "text/plain": [
       "45"
      ]
     },
     "execution_count": 66,
     "metadata": {},
     "output_type": "execute_result"
    }
   ],
   "source": [
    "np.add.reduce(red1) "
   ]
  },
  {
   "cell_type": "code",
   "execution_count": 67,
   "metadata": {},
   "outputs": [
    {
     "data": {
      "text/plain": [
       "array([ 1,  3,  6, 10, 15, 21, 28, 36, 45], dtype=int32)"
      ]
     },
     "execution_count": 67,
     "metadata": {},
     "output_type": "execute_result"
    }
   ],
   "source": [
    "np.add.accumulate(red1)"
   ]
  },
  {
   "cell_type": "code",
   "execution_count": 68,
   "metadata": {},
   "outputs": [
    {
     "data": {
      "text/plain": [
       "array([[3, 6, 4, 2],\n",
       "       [7, 8, 1, 4],\n",
       "       [3, 8, 8, 7]])"
      ]
     },
     "execution_count": 68,
     "metadata": {},
     "output_type": "execute_result"
    }
   ],
   "source": [
    "red2 = np.random.randint(1,10,(3,4))\n",
    "red2"
   ]
  },
  {
   "cell_type": "code",
   "execution_count": 69,
   "metadata": {},
   "outputs": [
    {
     "data": {
      "text/plain": [
       "array([13, 22, 13, 13])"
      ]
     },
     "execution_count": 69,
     "metadata": {},
     "output_type": "execute_result"
    }
   ],
   "source": [
    "red3 = np.add.reduce(red2)\n",
    "red3"
   ]
  },
  {
   "cell_type": "code",
   "execution_count": 70,
   "metadata": {},
   "outputs": [
    {
     "data": {
      "text/plain": [
       "array([15, 20, 26])"
      ]
     },
     "execution_count": 70,
     "metadata": {},
     "output_type": "execute_result"
    }
   ],
   "source": [
    "red4 = np.add.reduce(red2,1)\n",
    "red4"
   ]
  },
  {
   "cell_type": "code",
   "execution_count": 119,
   "metadata": {},
   "outputs": [
    {
     "data": {
      "text/plain": [
       "array([13, 22, 13, 13])"
      ]
     },
     "execution_count": 119,
     "metadata": {},
     "output_type": "execute_result"
    }
   ],
   "source": [
    "red5 = np.sum(red2,0)\n",
    "red5"
   ]
  },
  {
   "cell_type": "code",
   "execution_count": 71,
   "metadata": {},
   "outputs": [
    {
     "data": {
      "text/plain": [
       "array([[9, 1, 1, 4],\n",
       "       [4, 5, 9, 7],\n",
       "       [6, 6, 7, 1]])"
      ]
     },
     "execution_count": 71,
     "metadata": {},
     "output_type": "execute_result"
    }
   ],
   "source": [
    "# questions asked by Shyna\n",
    "ex1 = np.random.randint(1,10,(3,4))\n",
    "ex1"
   ]
  },
  {
   "cell_type": "code",
   "execution_count": 72,
   "metadata": {},
   "outputs": [],
   "source": [
    "ex1[1:2] = ex1[1:2]*2"
   ]
  },
  {
   "cell_type": "code",
   "execution_count": 73,
   "metadata": {},
   "outputs": [
    {
     "data": {
      "text/plain": [
       "array([[ 9,  1,  1,  4],\n",
       "       [ 8, 10, 18, 14],\n",
       "       [ 6,  6,  7,  1]])"
      ]
     },
     "execution_count": 73,
     "metadata": {},
     "output_type": "execute_result"
    }
   ],
   "source": [
    "ex1"
   ]
  },
  {
   "cell_type": "code",
   "execution_count": null,
   "metadata": {},
   "outputs": [],
   "source": []
  }
 ],
 "metadata": {
  "kernelspec": {
   "display_name": "Python 3",
   "language": "python",
   "name": "python3"
  },
  "language_info": {
   "codemirror_mode": {
    "name": "ipython",
    "version": 3
   },
   "file_extension": ".py",
   "mimetype": "text/x-python",
   "name": "python",
   "nbconvert_exporter": "python",
   "pygments_lexer": "ipython3",
   "version": "3.6.4"
  }
 },
 "nbformat": 4,
 "nbformat_minor": 2
}
