{
 "cells": [
  {
   "cell_type": "markdown",
   "metadata": {},
   "source": [
    "## What is Statistics?\n",
    "* Statistics is the science concerned with developing and studying methods for collecting, analyzing, interpreting and presenting data\n",
    "* Inspiration of Statistics\n",
    "  * Data collected from any event happening around the world\n",
    "    * Ex: Manufacturing - Volume of coke in manufactured coke bottles, Weight of chips pack\n",
    "    * Restaurant - No. of items ordered by a customer\n",
    "    * Traffic - Amount of time taken to go from point A to point B\n",
    "    * Plant growth - Height of sapling at germination\n",
    "* How Statistics works?\n",
    "  * It starts with a problem statement\n",
    "  * It starts with a population related to the problem statement. Ex. Chips packs manufactured in a factory\n",
    "  * It draws samples from the population. Ex. 10 or 20 or 30 or 50 chips packs (randomly)\n",
    "  * It calculates some metrics (in this case measures of central tendencies). Ex. mean of pack weights, variance of weights, standard deviation of weights\n",
    "  * It employs mechanisms to infer the same measures of central tendency for the population based on the driven samples\n"
   ]
  },
  {
   "cell_type": "markdown",
   "metadata": {},
   "source": [
    "## What is univariate analysis?\n",
    "* Analyzing a single set of data (a single variable)\n",
    "* What all information can be drawn from that?\n",
    "  * The average or mean\n",
    "  * The median\n",
    "  * The mode\n",
    "  * The variance\n",
    "  * The standard deviation\n",
    "* All these are called measures of central tendency and measures of dispersion"
   ]
  },
  {
   "cell_type": "markdown",
   "metadata": {},
   "source": [
    "## What is Probability?\n",
    "* Probability is a mathematical language used to discuss uncertain events and probability plays a key role in statistics. Any measurement or data collection effort is subject to a number of sources of variation. By this we mean that if the same measurement were repeated, then the answer would likely change. Statisticians attempt to understand and control (where possible) the sources of variation in any situation."
   ]
  },
  {
   "cell_type": "markdown",
   "metadata": {},
   "source": [
    "## What is a Random Variable?\n",
    "* It is the outcome of a chance event which can be measured or counted. Many naturally occurring events can be modelled as a Random Variable\n",
    "  * Example of chance events :\n",
    "    * Chance of getting a 4 when rolling a dice\n",
    "    * Chance of getting a red spade when drawing a card\n",
    "    * Chance of getting a tail on tossing a coin\n",
    "    * Chance of selling 3 samosas to the next customer\n",
    "  * Example of random variable : \n",
    "    * Sum total of numbers on top of dice after 3 trials > Possible outcomes : 3,4,5......36\n",
    "    * No. of traffic signals as red during a trip (Assuming my trip has a total of 5 signals) : 0,1,2,3,4,5\n",
    "    * No. of samosas to be sold in the next order : 1,2,3,4,5,6 (assuming the seller sells at max 6 samosas in any order)\n",
    "* Types of Random Variable\n",
    "  * Discrete Random Variable : When the outcome is a discrete set of values (as seen in above examples)\n",
    "  * Continuous Random Variable : When the outcome is a continuous value (ex. weight, time, price, temperature etc.)\n",
    "  * Example of chance events for continuous random variables :\n",
    "    * Weight of potatos on the weighing machine\n",
    "    * Room temperature at a point of time\n",
    "    * Height of a person entering an ATM machine to draw cash\n",
    "    * Speed of a bike passing a traffic interceptor\n",
    "* What cannot be modelled as a Random Variable?\n",
    "  * The color of an ordered laptop (Red, Black, Blue, Silver etc.)\n",
    "  * The flavor of the topping on a pizza\n",
    "  * The payment method for an online purchase (Cash on Delivery, Wallet, Account Transfer)\n",
    "  * The locality of the customer (South Bangalore, North Bangalore etc.)"
   ]
  },
  {
   "cell_type": "markdown",
   "metadata": {},
   "source": [
    "## Understanding The Central Limit Theorem\n",
    "* What is all about?\n",
    "  * Takes into consideration about the process of sampling\n",
    "    * Sampling means taking out a subset of data points from a given population\n",
    "    * Ex. What is the average height of an Indian?\n",
    "      * What are the goals?\n",
    "        * Representativeness\n",
    "        * Unbiased\n",
    "      * What are the assumptions?\n",
    "        * Each data point from a population is equally likely to be picked up (No preferences Boss!)\n",
    "      * What are the approaches?\n",
    "        * Simple\n",
    "        * Convenience\n",
    "        * Clustered\n",
    "        * Stratified\n",
    "      * To be Noted\n",
    "        * Any sampling process is going to have sampling error\n",
    "        * The whole game is about minimizing the same\n",
    "### Now, let's get back to Central Limit Theorem\n",
    "* Goal is to estimate mean of a population. Please note that the population could be so huge that it is not practically possible to know each value and thus calculate the mean. Hence, this needs to be estimated\n",
    "* The idea is to draw samples out of the population of a given fixed size N\n",
    "* Then, calculate the mean and standard deviation of the same\n",
    "* Draw sufficiently large number of samples\n",
    "* The Central Limit Theorem says that :\n",
    "  * If no. of samples drawn is sufficiently large (N > 30), then the average of means of the samples comes very close to the mean of the population\n",
    "  * Given the values N = size of the sample, x(bar) = mean of the sample and s = standard deviation of the sample\n",
    "    * The spread of the sample will be less compared to the population\n",
    "    * The sampling distribution will follow a normal distribution\n",
    "    * The bigger the sample, the smaller the spread\n",
    "      "
   ]
  },
  {
   "cell_type": "code",
   "execution_count": 7,
   "metadata": {},
   "outputs": [],
   "source": [
    "import numpy as np\n",
    "import pandas as pd\n",
    "import matplotlib.pyplot as plt\n",
    "import seaborn as sns"
   ]
  },
  {
   "cell_type": "code",
   "execution_count": 25,
   "metadata": {},
   "outputs": [
    {
     "data": {
      "text/plain": [
       "array([\"bachelor's degree\", \"associate's degree\", 'some high school',\n",
       "       'high school', 'some college', \"master's degree\"], dtype=object)"
      ]
     },
     "execution_count": 25,
     "metadata": {},
     "output_type": "execute_result"
    }
   ],
   "source": [
    "df = pd.read_csv('data/exams.csv')\n",
    "df.head()\n",
    "df['parental level of education'].unique()"
   ]
  },
  {
   "cell_type": "code",
   "execution_count": 27,
   "metadata": {},
   "outputs": [
    {
     "data": {
      "image/png": "[encoded data removed]",
      "text/plain": [
       "<matplotlib.figure.Figure at 0x265a0363080>"
      ]
     },
     "metadata": {},
     "output_type": "display_data"
    }
   ],
   "source": [
    "a = np.arange(1,len(df.index)+1)\n",
    "b = df['math score'].max()\n",
    "#plt.bar(b,a)\n",
    "x = np.arange(0,df['math score'].max(),10)\n",
    "plt.hist(df['math score'],bins=x)\n",
    "#plt.hist(bins,a)\n",
    "plt.show()"
   ]
  },
  {
   "cell_type": "code",
   "execution_count": null,
   "metadata": {},
   "outputs": [],
   "source": []
  }
 ],
 "metadata": {
  "kernelspec": {
   "display_name": "Python 3",
   "language": "python",
   "name": "python3"
  },
  "language_info": {
   "codemirror_mode": {
    "name": "ipython",
    "version": 3
   },
   "file_extension": ".py",
   "mimetype": "text/x-python",
   "name": "python",
   "nbconvert_exporter": "python",
   "pygments_lexer": "ipython3",
   "version": "3.6.4"
  }
 },
 "nbformat": 4,
 "nbformat_minor": 2
}
