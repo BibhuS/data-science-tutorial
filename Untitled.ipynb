{
 "cells": [
  {
   "cell_type": "code",
   "execution_count": 1,
   "metadata": {},
   "outputs": [],
   "source": [
    "import numpy as np\n",
    "import pandas as pd"
   ]
  },
  {
   "cell_type": "code",
   "execution_count": 3,
   "metadata": {},
   "outputs": [
    {
     "data": {
      "text/html": [
       "<div>\n",
       "<style scoped>\n",
       "    .dataframe tbody tr th:only-of-type {\n",
       "        vertical-align: middle;\n",
       "    }\n",
       "\n",
       "    .dataframe tbody tr th {\n",
       "        vertical-align: top;\n",
       "    }\n",
       "\n",
       "    .dataframe thead th {\n",
       "        text-align: right;\n",
       "    }\n",
       "</style>\n",
       "<table border=\"1\" class=\"dataframe\">\n",
       "  <thead>\n",
       "    <tr style=\"text-align: right;\">\n",
       "      <th></th>\n",
       "      <th>match_description</th>\n",
       "      <th>match_date</th>\n",
       "      <th>match_venue</th>\n",
       "      <th>match_location</th>\n",
       "      <th>match_result</th>\n",
       "      <th>team_name</th>\n",
       "      <th>innings_order</th>\n",
       "      <th>batsman_name</th>\n",
       "      <th>dismissal_mode</th>\n",
       "      <th>runs</th>\n",
       "      <th>balls</th>\n",
       "      <th>fours</th>\n",
       "      <th>sixes</th>\n",
       "    </tr>\n",
       "  </thead>\n",
       "  <tbody>\n",
       "    <tr>\n",
       "      <th>0</th>\n",
       "      <td>Mumbai Indians vs Chennai Super Kings, 1st Mat...</td>\n",
       "      <td>2018-04-07</td>\n",
       "      <td>Wankhede Stadium,</td>\n",
       "      <td>Mumbai</td>\n",
       "      <td>Chennai Super Kings won by 1 wkt</td>\n",
       "      <td>Mumbai Indians Innings</td>\n",
       "      <td>innings_1</td>\n",
       "      <td>Rohit Sharma (c)</td>\n",
       "      <td>c Rayudu b Watson</td>\n",
       "      <td>15</td>\n",
       "      <td>18</td>\n",
       "      <td>1</td>\n",
       "      <td>1</td>\n",
       "    </tr>\n",
       "    <tr>\n",
       "      <th>1</th>\n",
       "      <td>Mumbai Indians vs Chennai Super Kings, 1st Mat...</td>\n",
       "      <td>2018-04-07</td>\n",
       "      <td>Wankhede Stadium,</td>\n",
       "      <td>Mumbai</td>\n",
       "      <td>Chennai Super Kings won by 1 wkt</td>\n",
       "      <td>Mumbai Indians Innings</td>\n",
       "      <td>innings_1</td>\n",
       "      <td>Evin Lewis</td>\n",
       "      <td>lbw b D Chahar</td>\n",
       "      <td>0</td>\n",
       "      <td>2</td>\n",
       "      <td>0</td>\n",
       "      <td>0</td>\n",
       "    </tr>\n",
       "    <tr>\n",
       "      <th>2</th>\n",
       "      <td>Mumbai Indians vs Chennai Super Kings, 1st Mat...</td>\n",
       "      <td>2018-04-07</td>\n",
       "      <td>Wankhede Stadium,</td>\n",
       "      <td>Mumbai</td>\n",
       "      <td>Chennai Super Kings won by 1 wkt</td>\n",
       "      <td>Mumbai Indians Innings</td>\n",
       "      <td>innings_1</td>\n",
       "      <td>Ishan Kishan (wk)</td>\n",
       "      <td>c Mark Wood b Tahir</td>\n",
       "      <td>40</td>\n",
       "      <td>29</td>\n",
       "      <td>4</td>\n",
       "      <td>1</td>\n",
       "    </tr>\n",
       "    <tr>\n",
       "      <th>3</th>\n",
       "      <td>Mumbai Indians vs Chennai Super Kings, 1st Mat...</td>\n",
       "      <td>2018-04-07</td>\n",
       "      <td>Wankhede Stadium,</td>\n",
       "      <td>Mumbai</td>\n",
       "      <td>Chennai Super Kings won by 1 wkt</td>\n",
       "      <td>Mumbai Indians Innings</td>\n",
       "      <td>innings_1</td>\n",
       "      <td>Suryakumar Yadav</td>\n",
       "      <td>c Harbhajan b Watson</td>\n",
       "      <td>43</td>\n",
       "      <td>29</td>\n",
       "      <td>6</td>\n",
       "      <td>1</td>\n",
       "    </tr>\n",
       "    <tr>\n",
       "      <th>4</th>\n",
       "      <td>Mumbai Indians vs Chennai Super Kings, 1st Mat...</td>\n",
       "      <td>2018-04-07</td>\n",
       "      <td>Wankhede Stadium,</td>\n",
       "      <td>Mumbai</td>\n",
       "      <td>Chennai Super Kings won by 1 wkt</td>\n",
       "      <td>Mumbai Indians Innings</td>\n",
       "      <td>innings_1</td>\n",
       "      <td>Hardik Pandya</td>\n",
       "      <td>not out</td>\n",
       "      <td>22</td>\n",
       "      <td>20</td>\n",
       "      <td>2</td>\n",
       "      <td>0</td>\n",
       "    </tr>\n",
       "  </tbody>\n",
       "</table>\n",
       "</div>"
      ],
      "text/plain": [
       "                                   match_description  match_date  \\\n",
       "0  Mumbai Indians vs Chennai Super Kings, 1st Mat...  2018-04-07   \n",
       "1  Mumbai Indians vs Chennai Super Kings, 1st Mat...  2018-04-07   \n",
       "2  Mumbai Indians vs Chennai Super Kings, 1st Mat...  2018-04-07   \n",
       "3  Mumbai Indians vs Chennai Super Kings, 1st Mat...  2018-04-07   \n",
       "4  Mumbai Indians vs Chennai Super Kings, 1st Mat...  2018-04-07   \n",
       "\n",
       "         match_venue match_location                      match_result  \\\n",
       "0  Wankhede Stadium,         Mumbai  Chennai Super Kings won by 1 wkt   \n",
       "1  Wankhede Stadium,         Mumbai  Chennai Super Kings won by 1 wkt   \n",
       "2  Wankhede Stadium,         Mumbai  Chennai Super Kings won by 1 wkt   \n",
       "3  Wankhede Stadium,         Mumbai  Chennai Super Kings won by 1 wkt   \n",
       "4  Wankhede Stadium,         Mumbai  Chennai Super Kings won by 1 wkt   \n",
       "\n",
       "                team_name innings_order       batsman_name  \\\n",
       "0  Mumbai Indians Innings     innings_1   Rohit Sharma (c)   \n",
       "1  Mumbai Indians Innings     innings_1         Evin Lewis   \n",
       "2  Mumbai Indians Innings     innings_1  Ishan Kishan (wk)   \n",
       "3  Mumbai Indians Innings     innings_1   Suryakumar Yadav   \n",
       "4  Mumbai Indians Innings     innings_1      Hardik Pandya   \n",
       "\n",
       "         dismissal_mode  runs  balls  fours  sixes  \n",
       "0     c Rayudu b Watson    15     18      1      1  \n",
       "1        lbw b D Chahar     0      2      0      0  \n",
       "2   c Mark Wood b Tahir    40     29      4      1  \n",
       "3  c Harbhajan b Watson    43     29      6      1  \n",
       "4               not out    22     20      2      0  "
      ]
     },
     "execution_count": 3,
     "metadata": {},
     "output_type": "execute_result"
    }
   ],
   "source": [
    "df = pd.read_csv('data/iplfinal.csv',sep='|')\n",
    "df.head()"
   ]
  },
  {
   "cell_type": "code",
   "execution_count": 5,
   "metadata": {},
   "outputs": [
    {
     "data": {
      "text/plain": [
       "128"
      ]
     },
     "execution_count": 5,
     "metadata": {},
     "output_type": "execute_result"
    }
   ],
   "source": [
    "df.runs.max()"
   ]
  },
  {
   "cell_type": "code",
   "execution_count": null,
   "metadata": {},
   "outputs": [],
   "source": []
  }
 ],
 "metadata": {
  "kernelspec": {
   "display_name": "Python 3",
   "language": "python",
   "name": "python3"
  },
  "language_info": {
   "codemirror_mode": {
    "name": "ipython",
    "version": 3
   },
   "file_extension": ".py",
   "mimetype": "text/x-python",
   "name": "python",
   "nbconvert_exporter": "python",
   "pygments_lexer": "ipython3",
   "version": "3.6.4"
  }
 },
 "nbformat": 4,
 "nbformat_minor": 2
}
